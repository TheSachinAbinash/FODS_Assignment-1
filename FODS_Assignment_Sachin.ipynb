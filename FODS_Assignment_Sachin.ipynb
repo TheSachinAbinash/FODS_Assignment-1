{
 "cells": [
  {
   "cell_type": "markdown",
   "id": "ebc93168",
   "metadata": {},
   "source": [
    "#The following mini-project utilizes a dataset titled \"Spotify Top 100\" which was sourced from the website https://mavenanalytics.io/ \n",
    "\n",
    "This dataset is a set of the 'Top 100 Songs' to top the Spotify charts in the year of 2018. The dataset's fields includes 'a unique song id' , 'song_name' , 'artist(s)' , and the 'duration of the song.' \n",
    "\n",
    "There were additonal fields such as 'danceability' , 'loudness' , 'relevance' , and the like, but I chose not to include those fields into the dataset in order to keep it relatively simple. "
   ]
  },
  {
   "cell_type": "markdown",
   "id": "ff7cf3bd",
   "metadata": {},
   "source": [
    "#First we import pandas. This is the package that gives us the necessary functions which we then use to perform our data analysis. "
   ]
  },
  {
   "cell_type": "code",
   "execution_count": 12,
   "id": "a1020831",
   "metadata": {},
   "outputs": [],
   "source": [
    "import pandas as pd"
   ]
  },
  {
   "cell_type": "markdown",
   "id": "e68ac93d",
   "metadata": {},
   "source": [
    "#After importing our package, we then use the pd.read_csv() function to read the file containing our dataset. The file in this case is named 'top2018.csv' . "
   ]
  },
  {
   "cell_type": "code",
   "execution_count": 18,
   "id": "72d333f9",
   "metadata": {},
   "outputs": [],
   "source": [
    "data = pd.read_csv(\"top2018.csv\")"
   ]
  },
  {
   "cell_type": "markdown",
   "id": "77370e93",
   "metadata": {},
   "source": [
    "#Next, we identify the features of this dataset. This is done using the pandas function data.columns"
   ]
  },
  {
   "cell_type": "code",
   "execution_count": 19,
   "id": "92b356a5",
   "metadata": {},
   "outputs": [
    {
     "name": "stdout",
     "output_type": "stream",
     "text": [
      "Features in the dataset.\n",
      "Index(['id', 'name', 'artists', 'duration_ms'], dtype='object')\n"
     ]
    }
   ],
   "source": [
    "print(\"Features in the dataset.\")\n",
    "print(data.columns)"
   ]
  },
  {
   "cell_type": "markdown",
   "id": "83f12b11",
   "metadata": {},
   "source": [
    "#To check the data types of our features, we use the data.dtypes "
   ]
  },
  {
   "cell_type": "code",
   "execution_count": 21,
   "id": "46e33197",
   "metadata": {},
   "outputs": [
    {
     "name": "stdout",
     "output_type": "stream",
     "text": [
      "Data types of the Features\n",
      "id             object\n",
      "name           object\n",
      "artists        object\n",
      "duration_ms     int64\n",
      "dtype: object\n"
     ]
    }
   ],
   "source": [
    "print(\"Data types of the Features\")\n",
    "print(data.dtypes)"
   ]
  },
  {
   "cell_type": "markdown",
   "id": "474a4aff",
   "metadata": {},
   "source": [
    "#The next task is to perform a number summary of our dataset. Since the only numerical feature in my selected dataset is the song duration (in ms), the describe() function which we use to perform the summary primarily gives us the evaluation of that feature. "
   ]
  },
  {
   "cell_type": "code",
   "execution_count": 23,
   "id": "52f19a55",
   "metadata": {},
   "outputs": [
    {
     "name": "stdout",
     "output_type": "stream",
     "text": [
      "Number Summary of the dataset.\n",
      "         duration_ms\n",
      "count     100.000000\n",
      "mean   205206.780000\n",
      "std     40007.893404\n",
      "min     95467.000000\n",
      "25%    184680.000000\n",
      "50%    205047.500000\n",
      "75%    221493.250000\n",
      "max    417920.000000\n"
     ]
    }
   ],
   "source": [
    "print(\"Number Summary of the dataset.\")\n",
    "print(data.describe())"
   ]
  },
  {
   "cell_type": "markdown",
   "id": "fe35f092",
   "metadata": {},
   "source": [
    "#The statistical anaylsis of the dataset has been successfully obtained. "
   ]
  },
  {
   "cell_type": "markdown",
   "id": "8235c342",
   "metadata": {},
   "source": []
  },
  {
   "cell_type": "markdown",
   "id": "2b6b6e19",
   "metadata": {},
   "source": [
    "#By working with this dataset, I've come to understand that even the products of the creative mind - art, music, etc- can be subjected to empirical analysis. \n",
    "\n",
    "Using data science methods we can even turn vague concepts such as 'likeability' and 'danceability' into numerical measures that can be studied and manipulated. \n",
    "\n",
    "Given sufficient data and a proper study of said data, it might even become possible to 'manufacture' a hit, rather than leave it up to chance! I've come to realise that the value of data doesn't merely exist in 'what currently is' but rather what it represents for the future. \n",
    "\n",
    "All in all, I've come to better appreciate what it means to be a 'data scientist' or a 'data analyst.' It is more than simply studying numbers; it is studying the future. "
   ]
  },
  {
   "cell_type": "markdown",
   "id": "55a10438",
   "metadata": {},
   "source": []
  }
 ],
 "metadata": {
  "kernelspec": {
   "display_name": "Python 3 (ipykernel)",
   "language": "python",
   "name": "python3"
  },
  "language_info": {
   "codemirror_mode": {
    "name": "ipython",
    "version": 3
   },
   "file_extension": ".py",
   "mimetype": "text/x-python",
   "name": "python",
   "nbconvert_exporter": "python",
   "pygments_lexer": "ipython3",
   "version": "3.7.1"
  }
 },
 "nbformat": 4,
 "nbformat_minor": 5
}
